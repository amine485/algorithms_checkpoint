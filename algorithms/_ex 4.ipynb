{
 "cells": [
  {
   "cell_type": "code",
   "execution_count": 2,
   "id": "9de00145",
   "metadata": {},
   "outputs": [
    {
     "name": "stdout",
     "output_type": "stream",
     "text": [
      "[0, 2, 3, 4, 5, 5, 7, 9]\n"
     ]
    }
   ],
   "source": [
    "def mergesort(sequence) :\n",
    "    if len(sequence)> 1:\n",
    "        mid = len(sequence) // 2\n",
    "        left = sequence[mid:]\n",
    "        right = sequence[:mid]\n",
    "        mergesort(left)\n",
    "        mergesort(right)\n",
    "        i = 0\n",
    "        j = 0\n",
    "        k = 0\n",
    "        while i <len(left) and j <len(right):\n",
    "            if left[i]>right[j]:\n",
    "                sequence[k] =right[j]\n",
    "                j+=1\n",
    "            else :\n",
    "                sequence[k] = left[i]\n",
    "                i += 1\n",
    "            k += 1\n",
    "        while i < len(left) :\n",
    "            sequence[k] = left[i]\n",
    "            i += 1\n",
    "            k += 1\n",
    "\n",
    "        while j < len(right) :\n",
    "            sequence[k] = right[j]\n",
    "            j += 1\n",
    "            k += 1\n",
    "array1=[0,5,7,9,5,4,3,2]\n",
    "mergesort(array1)\n",
    "print(array1)\n",
    "\n",
    "\n"
   ]
  },
  {
   "cell_type": "code",
   "execution_count": null,
   "id": "4b51f891",
   "metadata": {},
   "outputs": [],
   "source": []
  }
 ],
 "metadata": {
  "kernelspec": {
   "display_name": "Python 3",
   "language": "python",
   "name": "python3"
  },
  "language_info": {
   "codemirror_mode": {
    "name": "ipython",
    "version": 3
   },
   "file_extension": ".py",
   "mimetype": "text/x-python",
   "name": "python",
   "nbconvert_exporter": "python",
   "pygments_lexer": "ipython3",
   "version": "3.8.8"
  }
 },
 "nbformat": 4,
 "nbformat_minor": 5
}
