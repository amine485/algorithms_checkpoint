{
 "cells": [
  {
   "cell_type": "code",
   "execution_count": null,
   "id": "841ed4bd",
   "metadata": {},
   "outputs": [],
   "source": [
    "def test_data(sequence,item):\n",
    "    begin_index = 0\n",
    "    end_index = len(sequence)-1\n",
    "    while begin_index <= end_index :\n",
    "        mid_point = begin_index + (end_index-begin_index)//2\n",
    "        mid_point_value = sequence[mid_point]\n",
    "        if len(sequence) == 1 and item == mid_point_value:\n",
    "            return True\n",
    "        elif item > mid_point_value:\n",
    "            begin_index = mid_point +1\n",
    "        else :\n",
    "            end_index = mid_point -1\n",
    "    if item == mid_point_value :\n",
    "        return True\n",
    "    else :\n",
    "        return False\n",
    "print(test_data([0,1,2,3,4,5,6],9))\n",
    "\n",
    "\n",
    "\n",
    "\n",
    "\n"
   ]
  }
 ],
 "metadata": {
  "kernelspec": {
   "display_name": "Python 3",
   "language": "python",
   "name": "python3"
  },
  "language_info": {
   "codemirror_mode": {
    "name": "ipython",
    "version": 3
   },
   "file_extension": ".py",
   "mimetype": "text/x-python",
   "name": "python",
   "nbconvert_exporter": "python",
   "pygments_lexer": "ipython3",
   "version": "3.8.8"
  }
 },
 "nbformat": 4,
 "nbformat_minor": 5
}
