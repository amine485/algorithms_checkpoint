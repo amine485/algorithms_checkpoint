{
 "cells": [
  {
   "cell_type": "code",
   "execution_count": 1,
   "id": "61a54ec8",
   "metadata": {},
   "outputs": [
    {
     "name": "stdout",
     "output_type": "stream",
     "text": [
      "[2, 2, 3, 4, 4, 5, 6, 7, 8]\n"
     ]
    }
   ],
   "source": [
    "def bubble(nlist) :\n",
    "    for num in range(len(nlist)-1,0,-1):\n",
    "        for i in range(num):\n",
    "            if nlist[i] > nlist[i+1]:\n",
    "                nlist[i], nlist[i+1] = nlist[i+1], nlist[i]\n",
    "    return nlist\n",
    "array1 = [5,4,8,2,3,4,7,6,2]\n",
    "print(bubble(array1))\n"
   ]
  },
  {
   "cell_type": "code",
   "execution_count": null,
   "id": "5bf23694",
   "metadata": {},
   "outputs": [],
   "source": []
  }
 ],
 "metadata": {
  "kernelspec": {
   "display_name": "Python 3",
   "language": "python",
   "name": "python3"
  },
  "language_info": {
   "codemirror_mode": {
    "name": "ipython",
    "version": 3
   },
   "file_extension": ".py",
   "mimetype": "text/x-python",
   "name": "python",
   "nbconvert_exporter": "python",
   "pygments_lexer": "ipython3",
   "version": "3.8.8"
  }
 },
 "nbformat": 4,
 "nbformat_minor": 5
}
