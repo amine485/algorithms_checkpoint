{
 "cells": [
  {
   "cell_type": "code",
   "execution_count": null,
   "id": "af9579e8",
   "metadata": {},
   "outputs": [],
   "source": [
    "def partition (array , start , end ):\n",
    "    high = end\n",
    "    low = start +1\n",
    "    pivot = array[start]\n",
    "    while True :\n",
    "        while low <= high and array[high]>=pivot :\n",
    "            high = high -1\n",
    "        while low <= high and array[low]<=pivot :\n",
    "            low = low +1\n",
    "        if low <= high :\n",
    "            array[low], array[high] = array[high] , array[low]\n",
    "        else :\n",
    "            break\n",
    "    array[high]  , array[start] = array[start] , array[high]\n",
    "    return high\n",
    "def quicksort(array,start,end):\n",
    "    if start>= end :\n",
    "        return\n",
    "    p = partition(array,start,end)\n",
    "    quicksort(array,start,p-1)\n",
    "    quicksort(array,p+1,end)\n",
    "\n",
    "array = [5,2,4,8,9,2,7,3]\n",
    "quicksort(array,0,len(array)-1)\n",
    "print(array)\n"
   ]
  },
  {
   "cell_type": "code",
   "execution_count": null,
   "id": "655748ba",
   "metadata": {},
   "outputs": [],
   "source": []
  },
  {
   "cell_type": "code",
   "execution_count": null,
   "id": "92f0af20",
   "metadata": {},
   "outputs": [],
   "source": []
  }
 ],
 "metadata": {
  "kernelspec": {
   "display_name": "Python 3",
   "language": "python",
   "name": "python3"
  },
  "language_info": {
   "codemirror_mode": {
    "name": "ipython",
    "version": 3
   },
   "file_extension": ".py",
   "mimetype": "text/x-python",
   "name": "python",
   "nbconvert_exporter": "python",
   "pygments_lexer": "ipython3",
   "version": "3.8.8"
  }
 },
 "nbformat": 4,
 "nbformat_minor": 5
}
